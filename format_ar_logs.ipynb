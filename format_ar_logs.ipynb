{
 "cells": [
  {
   "cell_type": "code",
   "execution_count": null,
   "metadata": {},
   "outputs": [],
   "source": [
    "import os.path as path\n",
    "from matplotlib import pyplot as plt\n",
    "import script.utility as util"
   ]
  },
  {
   "cell_type": "code",
   "execution_count": null,
   "metadata": {},
   "outputs": [],
   "source": [
    "ar_log_file = \"raw/ar/sample.csv\"\n",
    "map_img_file = \"map/sample.pgm\"\n",
    "\n",
    "pos, pos_ts = util.load_ar_log(ar_log_file)\n",
    "map_img = plt.imread(map_img_file)"
   ]
  },
  {
   "cell_type": "markdown",
   "metadata": {},
   "source": [
    "transform coordinate"
   ]
  },
  {
   "cell_type": "code",
   "execution_count": null,
   "metadata": {},
   "outputs": [],
   "source": [
    "angle = 0\n",
    "init_pos = (0, 0)\n",
    "mag = 12.5\n",
    "\n",
    "tf_pos = util.rot(angle, mag * pos) + init_pos\n",
    "lc_pos = util.loop_closure(tf_pos)\n",
    "util.vis_pos_on_map(map_img, lc_pos)"
   ]
  },
  {
   "cell_type": "markdown",
   "metadata": {},
   "source": [
    "format and export"
   ]
  },
  {
   "cell_type": "code",
   "execution_count": null,
   "metadata": {},
   "outputs": [],
   "source": [
    "offset = 0\n",
    "\n",
    "tgt_file_name = path.splitext(path.basename(ar_log_file))[0] + (\"\" if offset == 0 else f\"{offset:+}\")\n",
    "util.format_log(tgt_file_name, offset, lc_pos, pos_ts)\n",
    "util.write_conf(angle, init_pos, mag, offset, util.App.AR, tgt_file_name)"
   ]
  }
 ],
 "metadata": {
  "interpreter": {
   "hash": "0f1175d7776d392107ce711bd595161b267754ab1f37d3b02aaaf0b092c6b265"
  },
  "kernelspec": {
   "display_name": "Python 3.10.4 64-bit (windows store)",
   "language": "python",
   "name": "python3"
  },
  "language_info": {
   "codemirror_mode": {
    "name": "ipython",
    "version": 3
   },
   "file_extension": ".py",
   "mimetype": "text/x-python",
   "name": "python",
   "nbconvert_exporter": "python",
   "pygments_lexer": "ipython3",
   "version": "3.10.11"
  },
  "orig_nbformat": 4
 },
 "nbformat": 4,
 "nbformat_minor": 2
}
