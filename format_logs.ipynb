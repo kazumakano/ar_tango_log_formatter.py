{
 "cells": [
  {
   "cell_type": "code",
   "execution_count": null,
   "metadata": {},
   "outputs": [],
   "source": [
    "import os.path as path\n",
    "from matplotlib import pyplot as plt\n",
    "import script.utility as util"
   ]
  },
  {
   "cell_type": "code",
   "execution_count": null,
   "metadata": {},
   "outputs": [],
   "source": [
    "src_file = \"raw/sample.csv\"\n",
    "map_img_file = \"map/sample.pgm\"\n",
    "\n",
    "pos, ts = util.load_log(src_file)\n",
    "map_img = plt.imread(map_img_file)"
   ]
  },
  {
   "cell_type": "markdown",
   "metadata": {},
   "source": [
    "transform coordinate"
   ]
  },
  {
   "cell_type": "code",
   "execution_count": null,
   "metadata": {},
   "outputs": [],
   "source": [
    "init_pos = (0, 0)\n",
    "mag = 12.5\n",
    "\n",
    "tf_pos = mag * pos + init_pos\n",
    "util.vis_on_map(map_img, tf_pos)"
   ]
  },
  {
   "cell_type": "markdown",
   "metadata": {},
   "source": [
    "format and export"
   ]
  },
  {
   "cell_type": "code",
   "execution_count": null,
   "metadata": {},
   "outputs": [],
   "source": [
    "tgt_file_name = path.splitext(path.basename(src_file))[0]\n",
    "util.format_log(tgt_file_name, tf_pos, ts)\n",
    "# util.write_conf(tgt_file_name, init_pos, mag)"
   ]
  }
 ],
 "metadata": {
  "interpreter": {
   "hash": "65c4a7c54a07522b09b68df51fa1a7275346427f42bfa378d4163911f3df6a3d"
  },
  "kernelspec": {
   "display_name": "Python 3.10.4 64-bit (windows store)",
   "language": "python",
   "name": "python3"
  },
  "language_info": {
   "codemirror_mode": {
    "name": "ipython",
    "version": 3
   },
   "file_extension": ".py",
   "mimetype": "text/x-python",
   "name": "python",
   "nbconvert_exporter": "python",
   "pygments_lexer": "ipython3",
   "version": "3.10.4"
  },
  "orig_nbformat": 4
 },
 "nbformat": 4,
 "nbformat_minor": 2
}
