{
 "cells": [
  {
   "cell_type": "code",
   "execution_count": 1,
   "metadata": {},
   "outputs": [],
   "source": [
    "import os.path as path\n",
    "from datetime import datetime\n",
    "from matplotlib import pyplot as plt\n",
    "import script.utility as util"
   ]
  },
  {
   "cell_type": "code",
   "execution_count": null,
   "metadata": {},
   "outputs": [],
   "source": [
    "acc_log_file = \"raw/acc/sample.csv\"\n",
    "pose_log_file = \"raw/pose/sample.csv\"\n",
    "map_img_file = \"map/sample.pgm\"\n",
    "map_resolution = 0.1\n",
    "\n",
    "acc, acc_ts = util.load_acc_log(acc_log_file)\n",
    "pos, pos_ts = util.load_pose_log(pose_log_file)\n",
    "map_img = plt.imread(map_img_file)"
   ]
  },
  {
   "cell_type": "markdown",
   "metadata": {},
   "source": [
    "transform coordinate"
   ]
  },
  {
   "cell_type": "code",
   "execution_count": null,
   "metadata": {},
   "outputs": [],
   "source": [
    "angle = 0\n",
    "init_pos = (0, 0)\n",
    "mag = 12.5\n",
    "\n",
    "tf_pos = util.rot(angle, mag * pos) + init_pos\n",
    "lc_pos = util.loop_closure(tf_pos)\n",
    "util.print_tj_len(map_resolution, pos, lc_pos)\n",
    "util.vis_pos_on_map(map_img, lc_pos)"
   ]
  },
  {
   "cell_type": "markdown",
   "metadata": {},
   "source": [
    "synchronize by jump action"
   ]
  },
  {
   "cell_type": "code",
   "execution_count": null,
   "metadata": {},
   "outputs": [],
   "source": [
    "begin = datetime(2000, 1, 1, 0, 0, 0)\n",
    "end = datetime(2000, 1, 1, 0, 1, 0)\n",
    "\n",
    "util.vis_acc(acc, acc_ts, begin, end)"
   ]
  },
  {
   "cell_type": "markdown",
   "metadata": {},
   "source": [
    "format and export"
   ]
  },
  {
   "cell_type": "code",
   "execution_count": null,
   "metadata": {},
   "outputs": [],
   "source": [
    "offset = 0\n",
    "\n",
    "tgt_file_name = path.splitext(path.basename(pose_log_file))[0] + (\"\" if offset == 0 else f\"{offset:+}\")\n",
    "util.format_log(tgt_file_name, offset, lc_pos, pos_ts)\n",
    "util.write_conf(angle, init_pos, mag, offset, util.App.TANGO, tgt_file_name)"
   ]
  }
 ],
 "metadata": {
  "interpreter": {
   "hash": "0f1175d7776d392107ce711bd595161b267754ab1f37d3b02aaaf0b092c6b265"
  },
  "kernelspec": {
   "display_name": "Python 3.10.4 64-bit (windows store)",
   "language": "python",
   "name": "python3"
  },
  "language_info": {
   "codemirror_mode": {
    "name": "ipython",
    "version": 3
   },
   "file_extension": ".py",
   "mimetype": "text/x-python",
   "name": "python",
   "nbconvert_exporter": "python",
   "pygments_lexer": "ipython3",
   "version": "3.10.4"
  },
  "orig_nbformat": 4
 },
 "nbformat": 4,
 "nbformat_minor": 2
}
